{
 "cells": [
  {
   "cell_type": "markdown",
   "metadata": {},
   "source": [
    "|Model||Accuracy_before_Hyperparameter_Tuning||Accuracy_before_Hyperparameter_Tuning|\n",
    "|---||---||---|\n",
    "|Logistic Regression||69.4793%||69.4793%|\n",
    "|SVM with linear kernel||72.7109%||95.5116%|\n",
    "|SVM with rbf kernel||94.6140%||95.5116%|\n",
    "|Decision Tree||92.4596%||75.0448%|\n",
    "|KNN||94.2549%||95.1526%|"
   ]
  },
  {
   "cell_type": "markdown",
   "metadata": {},
   "source": [
    "# Here we can say that SVm with rbf kerenel is best because it gives high accuracy on training and test data with no overfitting"
   ]
  },
  {
   "cell_type": "code",
   "execution_count": null,
   "metadata": {},
   "outputs": [],
   "source": []
  }
 ],
 "metadata": {
  "kernelspec": {
   "display_name": "Python 3",
   "language": "python",
   "name": "python3"
  },
  "language_info": {
   "codemirror_mode": {
    "name": "ipython",
    "version": 3
   },
   "file_extension": ".py",
   "mimetype": "text/x-python",
   "name": "python",
   "nbconvert_exporter": "python",
   "pygments_lexer": "ipython3",
   "version": "3.8.5"
  }
 },
 "nbformat": 4,
 "nbformat_minor": 4
}
